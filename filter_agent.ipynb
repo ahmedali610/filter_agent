{
 "cells": [
  {
   "cell_type": "code",
   "execution_count": 2,
   "id": "13a3d013",
   "metadata": {},
   "outputs": [
    {
     "name": "stdout",
     "output_type": "stream",
     "text": [
      "Requirement already satisfied: pip in c:\\users\\s\\appdata\\local\\programs\\python\\python39\\lib\\site-packages (25.0.1)\n",
      "Collecting pip\n",
      "  Downloading pip-25.1.1-py3-none-any.whl.metadata (3.6 kB)\n",
      "Downloading pip-25.1.1-py3-none-any.whl (1.8 MB)\n",
      "   ---------------------------------------- 0.0/1.8 MB ? eta -:--:--\n",
      "   ----- ---------------------------------- 0.3/1.8 MB ? eta -:--:--\n",
      "   ---------------------- ----------------- 1.0/1.8 MB 3.6 MB/s eta 0:00:01\n",
      "   ---------------------------------------- 1.8/1.8 MB 4.2 MB/s eta 0:00:00\n",
      "Installing collected packages: pip\n",
      "  Attempting uninstall: pip\n",
      "    Found existing installation: pip 25.0.1\n",
      "    Uninstalling pip-25.0.1:\n",
      "      Successfully uninstalled pip-25.0.1\n",
      "Successfully installed pip-25.1.1\n",
      "Note: you may need to restart the kernel to use updated packages.\n"
     ]
    }
   ],
   "source": [
    "pip install --upgrade pip"
   ]
  },
  {
   "cell_type": "code",
   "execution_count": null,
   "id": "cedcc58b",
   "metadata": {},
   "outputs": [],
   "source": [
    "!pip install -q streamlit"
   ]
  },
  {
   "cell_type": "code",
   "execution_count": 3,
   "id": "b94622d2",
   "metadata": {},
   "outputs": [
    {
     "name": "stdout",
     "output_type": "stream",
     "text": [
      "Collecting chroma-hnswlib\n",
      "  Using cached chroma_hnswlib-0.7.6.tar.gz (32 kB)\n",
      "  Installing build dependencies: started\n",
      "  Installing build dependencies: finished with status 'done'\n",
      "  Getting requirements to build wheel: started\n",
      "  Getting requirements to build wheel: finished with status 'done'\n",
      "  Preparing metadata (pyproject.toml): started\n",
      "  Preparing metadata (pyproject.toml): finished with status 'done'\n",
      "Requirement already satisfied: numpy in c:\\users\\s\\anaconda3\\lib\\site-packages (from chroma-hnswlib) (1.26.4)\n",
      "Building wheels for collected packages: chroma-hnswlib\n",
      "  Building wheel for chroma-hnswlib (pyproject.toml): started\n",
      "  Building wheel for chroma-hnswlib (pyproject.toml): finished with status 'error'\n",
      "Failed to build chroma-hnswlib\n"
     ]
    },
    {
     "name": "stderr",
     "output_type": "stream",
     "text": [
      "  error: subprocess-exited-with-error\n",
      "  \n",
      "  × Building wheel for chroma-hnswlib (pyproject.toml) did not run successfully.\n",
      "  │ exit code: 1\n",
      "  ╰─> [5 lines of output]\n",
      "      running bdist_wheel\n",
      "      running build\n",
      "      running build_ext\n",
      "      building 'hnswlib' extension\n",
      "      error: Microsoft Visual C++ 14.0 or greater is required. Get it with \"Microsoft C++ Build Tools\": https://visualstudio.microsoft.com/visual-cpp-build-tools/\n",
      "      [end of output]\n",
      "  \n",
      "  note: This error originates from a subprocess, and is likely not a problem with pip.\n",
      "  ERROR: Failed building wheel for chroma-hnswlib\n",
      "ERROR: ERROR: Failed to build installable wheels for some pyproject.toml based projects (chroma-hnswlib)\n"
     ]
    },
    {
     "name": "stderr",
     "output_type": "stream",
     "text": [
      "  WARNING: Failed to remove contents in a temporary directory 'C:\\Users\\s\\anaconda3\\Lib\\site-packages\\~crypt'.\n",
      "  You can safely remove it manually.\n",
      "  WARNING: Failed to remove contents in a temporary directory 'C:\\Users\\s\\anaconda3\\Lib\\site-packages\\~ryptography'.\n",
      "  You can safely remove it manually.\n",
      "ERROR: pip's dependency resolver does not currently take into account all the packages that are installed. This behaviour is the source of the following dependency conflicts.\n",
      "pyopenssl 24.2.1 requires cryptography<44,>=41.0.5, but you have cryptography 44.0.3 which is incompatible.\n",
      "streamlit 1.37.1 requires tenacity<9,>=8.1.0, but you have tenacity 9.1.2 which is incompatible.\n"
     ]
    }
   ],
   "source": [
    "!pip install chroma-hnswlib\n"
   ]
  },
  {
   "cell_type": "code",
   "execution_count": 2,
   "id": "254b45e2",
   "metadata": {},
   "outputs": [
    {
     "name": "stdout",
     "output_type": "stream",
     "text": [
      "Collecting chroma-hnswlib\n",
      "  Using cached chroma_hnswlib-0.7.6.tar.gz (32 kB)\n",
      "  Installing build dependencies: started\n",
      "  Installing build dependencies: finished with status 'done'\n",
      "  Getting requirements to build wheel: started\n",
      "  Getting requirements to build wheel: finished with status 'done'\n",
      "  Preparing metadata (pyproject.toml): started\n",
      "  Preparing metadata (pyproject.toml): finished with status 'done'\n",
      "Requirement already satisfied: numpy in c:\\users\\s\\anaconda3\\lib\\site-packages (from chroma-hnswlib) (1.26.4)\n",
      "Building wheels for collected packages: chroma-hnswlib\n",
      "  Building wheel for chroma-hnswlib (pyproject.toml): started\n",
      "  Building wheel for chroma-hnswlib (pyproject.toml): finished with status 'error'\n",
      "Failed to build chroma-hnswlib\n"
     ]
    },
    {
     "name": "stderr",
     "output_type": "stream",
     "text": [
      "  error: subprocess-exited-with-error\n",
      "  \n",
      "  × Building wheel for chroma-hnswlib (pyproject.toml) did not run successfully.\n",
      "  │ exit code: 1\n",
      "  ╰─> [5 lines of output]\n",
      "      running bdist_wheel\n",
      "      running build\n",
      "      running build_ext\n",
      "      building 'hnswlib' extension\n",
      "      error: Microsoft Visual C++ 14.0 or greater is required. Get it with \"Microsoft C++ Build Tools\": https://visualstudio.microsoft.com/visual-cpp-build-tools/\n",
      "      [end of output]\n",
      "  \n",
      "  note: This error originates from a subprocess, and is likely not a problem with pip.\n",
      "  ERROR: Failed building wheel for chroma-hnswlib\n",
      "ERROR: ERROR: Failed to build installable wheels for some pyproject.toml based projects (chroma-hnswlib)\n"
     ]
    },
    {
     "name": "stdout",
     "output_type": "stream",
     "text": [
      "^C\n"
     ]
    }
   ],
   "source": [
    "!pip install -q crewai openai"
   ]
  },
  {
   "cell_type": "code",
   "execution_count": 1,
   "id": "ae5fb8ce",
   "metadata": {},
   "outputs": [],
   "source": [
    "import os\n",
    "from crewai import Agent, Task, Crew, Process\n",
    "from langchain.chat_models import ChatOpenAI\n",
    "import streamlit as st"
   ]
  },
  {
   "cell_type": "code",
   "execution_count": 2,
   "id": "95eeb6c8",
   "metadata": {},
   "outputs": [],
   "source": [
    "os.environ[\"OPENAI_API_KEY\"] = \"e9217fc4-58e8-4fd4-acb8-b882ae5c2e71\"\n",
    "os.environ[\"OPENAI_API_BASE\"] = \"https://api.sambanova.ai/v1\"\n",
    "os.environ[\"OPENAI_MODEL_NAME\"] = \"sambanova/Meta-Llama-3.3-70B-Instruct\""
   ]
  },
  {
   "cell_type": "code",
   "execution_count": 3,
   "id": "bea4bc0c",
   "metadata": {},
   "outputs": [
    {
     "name": "stderr",
     "output_type": "stream",
     "text": [
      "C:\\Users\\s\\AppData\\Local\\Temp\\ipykernel_23116\\3428245507.py:1: LangChainDeprecationWarning: The class `ChatOpenAI` was deprecated in LangChain 0.0.10 and will be removed in 1.0. An updated version of the class exists in the :class:`~langchain-openai package and should be used instead. To use it run `pip install -U :class:`~langchain-openai` and import as `from :class:`~langchain_openai import ChatOpenAI``.\n",
      "  custom_llm = ChatOpenAI(\n"
     ]
    }
   ],
   "source": [
    "custom_llm = ChatOpenAI(\n",
    "    temperature=0.7,\n",
    "    model=os.environ[\"OPENAI_MODEL_NAME\"],\n",
    "    openai_api_base=os.environ[\"OPENAI_API_BASE\"],\n",
    "    openai_api_key=os.environ[\"OPENAI_API_KEY\"],\n",
    ")"
   ]
  },
  {
   "cell_type": "code",
   "execution_count": 4,
   "id": "c31548a2",
   "metadata": {},
   "outputs": [],
   "source": [
    "filter_agent = Agent(\n",
    "    role=\"Prompt Filter\",\n",
    "    goal=\"Ensure user prompts are appropriate and doesnot contain any insecure words\",\n",
    "    backstory=(\n",
    "        \"You are a strict and ethical filter AI. You detect and reject prompts that contain any form of sexual content, \"\n",
    "        \"violence, harassment, sensitive or offensive content, or pedophilia. Your mission is to allow only clean and \"\n",
    "        \"safe prompts.\"\n",
    "    ),\n",
    "    verbose=True,\n",
    "    allow_delegation=False,\n",
    "    llm=custom_llm\n",
    ")"
   ]
  },
  {
   "cell_type": "code",
   "execution_count": 5,
   "id": "3aaae03d",
   "metadata": {},
   "outputs": [],
   "source": [
    "def create_filter_task(user_prompt):\n",
    "    return Task(\n",
    "        description=(\n",
    "            f\"Review this prompt carefully: \\\"{user_prompt}\\\"\\n\\n\"\n",
    "            \"Check if it contains **any** of the following types of content:\\n\"\n",
    "            \"- Sexual\\n\"\n",
    "            \"- Sensitive\\n\"\n",
    "            \"- Harassment or bullying\\n\"\n",
    "            \"- Violence or threats\\n\"\n",
    "            \"- Offensive language\\n\"\n",
    "            \"- Hate speech\\n\"\n",
    "            \"- Pedophilia\\n\\n\"\n",
    "            \"- If it contains any of the listed inappropriate categories → Respond with 'The prompt is rejected'\\n\"\n",
    "            \"- Only if it's both clean and safe → Respond with 'Accepted prompt'\"\n",
    "            \"The response must be either 'Accepted prompt' or 'The prompt is rejected'\"\n",
    "        ),\n",
    "        expected_output=\"Either 'Accepted prompt' or 'The prompt is rejected'\",\n",
    "        agent=filter_agent\n",
    "    )"
   ]
  },
  {
   "cell_type": "code",
   "execution_count": 6,
   "id": "6466398c",
   "metadata": {},
   "outputs": [],
   "source": [
    "def validate_prompt(user_prompt):\n",
    "    task = create_filter_task(user_prompt)\n",
    "    crew = Crew(\n",
    "        agents=[filter_agent],\n",
    "        tasks=[task],\n",
    "        process=Process.sequential\n",
    "    )\n",
    "    result = crew.kickoff()\n",
    "    print(\"\\n🧾 Result:\", result)\n",
    "    return result"
   ]
  },
  {
   "cell_type": "code",
   "execution_count": 7,
   "id": "0aff8210",
   "metadata": {},
   "outputs": [
    {
     "name": "stderr",
     "output_type": "stream",
     "text": [
      "2025-05-05 15:32:01.744 \n",
      "  \u001b[33m\u001b[1mWarning:\u001b[0m to view this Streamlit app on a browser, run it with the following\n",
      "  command:\n",
      "\n",
      "    streamlit run c:\\Users\\s\\anaconda3\\Lib\\site-packages\\ipykernel_launcher.py [ARGUMENTS]\n",
      "2025-05-05 15:32:01.746 Session state does not function when running a script without `streamlit run`\n"
     ]
    }
   ],
   "source": [
    "# Streamlit UI\n",
    "st.set_page_config(page_title=\"Prompt Filter\", layout=\"centered\")\n",
    "st.title(\"🛡️ Prompt Moderation System\")\n",
    "\n",
    "user_prompt = st.text_area(\"Enter your prompt for moderation:\", height=150)\n",
    "\n",
    "if st.button(\"Check Prompt\"):\n",
    "    if user_prompt.strip():\n",
    "        with st.spinner(\"Validating...\"):\n",
    "            result = validate_prompt(user_prompt)\n",
    "        st.success(\"Result:\")\n",
    "        st.markdown(f\"**{result}**\")\n",
    "    else:\n",
    "        st.warning(\"Please enter a prompt before clicking 'Check Prompt'.\")\n"
   ]
  },
  {
   "cell_type": "markdown",
   "id": "d9e4c1bf",
   "metadata": {},
   "source": []
  },
  {
   "cell_type": "code",
   "execution_count": null,
   "id": "4da67ebb",
   "metadata": {},
   "outputs": [],
   "source": []
  }
 ],
 "metadata": {
  "kernelspec": {
   "display_name": "base",
   "language": "python",
   "name": "python3"
  },
  "language_info": {
   "codemirror_mode": {
    "name": "ipython",
    "version": 3
   },
   "file_extension": ".py",
   "mimetype": "text/x-python",
   "name": "python",
   "nbconvert_exporter": "python",
   "pygments_lexer": "ipython3",
   "version": "3.12.7"
  }
 },
 "nbformat": 4,
 "nbformat_minor": 5
}
